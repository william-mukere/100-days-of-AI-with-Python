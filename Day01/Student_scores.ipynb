{
  "nbformat": 4,
  "nbformat_minor": 0,
  "metadata": {
    "colab": {
      "provenance": [],
      "authorship_tag": "ABX9TyOU2XU9PscpwxpRuyXefjTm"
    },
    "kernelspec": {
      "name": "python3",
      "display_name": "Python 3"
    },
    "language_info": {
      "name": "python"
    }
  },
  "cells": [
    {
      "cell_type": "code",
      "execution_count": null,
      "metadata": {
        "colab": {
          "base_uri": "https://localhost:8080/"
        },
        "id": "8nF_DAyKcH-x",
        "outputId": "32ff9eab-df6e-45d1-ab9a-4dc25b2b486e"
      },
      "outputs": [
        {
          "name": "stdout",
          "output_type": "stream",
          "text": [
            "what is the score ? 50\n"
          ]
        }
      ],
      "source": [
        "score = int(input(\"what is the score ? \"))\n",
        "\n",
        "if  (score >= 70):\n",
        "    grade = \"A\"\n",
        "elif (score >= 60):\n",
        "    grade = \"B\"\n",
        "elif  (score >= 50):\n",
        "    grade = \"C\"\n",
        "elif (score >= 40):\n",
        "    grade = \"D\"\n",
        "else:\n",
        "    grade =\"E\""
      ]
    },
    {
      "cell_type": "code",
      "source": [
        "if grade == \"A\" or grade == \"B\" :\n",
        "   Message = input(\"congratulation you got {}! .Do you want suggestions on college you can join?\".format(grade))\n",
        "elif grade == \"C\" or grade == \"D\":\n",
        "  Message = \"You got {},There is room for improvement\".format(grade)\n",
        "else:\n",
        "  Message = \"You got {}, please sign up for remedial classes\".format(grade)"
      ],
      "metadata": {
        "id": "MSXiYpbgcoaB"
      },
      "execution_count": null,
      "outputs": []
    },
    {
      "cell_type": "code",
      "source": [
        "if Message == \"Yes\":\n",
        "  print(\"University of Nairobi is the best university in Kenya you can visit their website:https://www.uonbi.ac.ke/\")\n",
        "elif Message == \"No\":\n",
        "  print(\"Thank you,See you then.\")\n",
        "else:\n",
        "  print(Message)"
      ],
      "metadata": {
        "colab": {
          "base_uri": "https://localhost:8080/"
        },
        "id": "bRa1ZaqrfCZk",
        "outputId": "bd71f0fa-8d0b-453e-aaff-ba4df8158bfc"
      },
      "execution_count": null,
      "outputs": [
        {
          "output_type": "stream",
          "name": "stdout",
          "text": [
            "You got C,There is room for improvement\n"
          ]
        }
      ]
    }
  ]
}