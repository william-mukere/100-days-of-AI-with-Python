{
  "nbformat": 4,
  "nbformat_minor": 0,
  "metadata": {
    "colab": {
      "provenance": []
    },
    "kernelspec": {
      "name": "python3",
      "display_name": "Python 3"
    },
    "language_info": {
      "name": "python"
    }
  },
  "cells": [
    {
      "cell_type": "code",
      "execution_count": 3,
      "metadata": {
        "id": "jnfkequA731H"
      },
      "outputs": [],
      "source": [
        "words = (\"AI is being tested and used in the healthcare industry for suggesting drug dosages, identifying treatments, and for aiding in surgical procedures in the operating room.\")"
      ]
    },
    {
      "cell_type": "code",
      "source": [
        "words = words.split()"
      ],
      "metadata": {
        "id": "ngezZP7Y-GHU"
      },
      "execution_count": 4,
      "outputs": []
    },
    {
      "cell_type": "code",
      "source": [
        "words"
      ],
      "metadata": {
        "colab": {
          "base_uri": "https://localhost:8080/"
        },
        "id": "2kjW1nlZ-M2F",
        "outputId": "380c37d4-4954-41e7-db42-22059b35d2d9"
      },
      "execution_count": 5,
      "outputs": [
        {
          "output_type": "execute_result",
          "data": {
            "text/plain": [
              "['AI',\n",
              " 'is',\n",
              " 'being',\n",
              " 'tested',\n",
              " 'and',\n",
              " 'used',\n",
              " 'in',\n",
              " 'the',\n",
              " 'healthcare',\n",
              " 'industry',\n",
              " 'for',\n",
              " 'suggesting',\n",
              " 'drug',\n",
              " 'dosages,',\n",
              " 'identifying',\n",
              " 'treatments,',\n",
              " 'and',\n",
              " 'for',\n",
              " 'aiding',\n",
              " 'in',\n",
              " 'surgical',\n",
              " 'procedures',\n",
              " 'in',\n",
              " 'the',\n",
              " 'operating',\n",
              " 'room.']"
            ]
          },
          "metadata": {},
          "execution_count": 5
        }
      ]
    },
    {
      "cell_type": "code",
      "source": [
        "words_count = {}"
      ],
      "metadata": {
        "id": "vmfCvWCn-TFf"
      },
      "execution_count": 8,
      "outputs": []
    },
    {
      "cell_type": "code",
      "source": [
        "for word in words:\n",
        "  words_count[word] = words_count.get(word , 0) + 1\n",
        "print(words_count)"
      ],
      "metadata": {
        "colab": {
          "base_uri": "https://localhost:8080/"
        },
        "id": "sdg052kX-hJA",
        "outputId": "6fcb8263-ad2c-4649-882c-c0b597a39b13"
      },
      "execution_count": 9,
      "outputs": [
        {
          "output_type": "stream",
          "name": "stdout",
          "text": [
            "{'AI': 1, 'is': 1, 'being': 1, 'tested': 1, 'and': 2, 'used': 1, 'in': 3, 'the': 2, 'healthcare': 1, 'industry': 1, 'for': 2, 'suggesting': 1, 'drug': 1, 'dosages,': 1, 'identifying': 1, 'treatments,': 1, 'aiding': 1, 'surgical': 1, 'procedures': 1, 'operating': 1, 'room.': 1}\n"
          ]
        }
      ]
    }
  ]
}