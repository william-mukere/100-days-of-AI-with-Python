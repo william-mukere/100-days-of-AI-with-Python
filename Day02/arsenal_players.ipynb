{
  "nbformat": 4,
  "nbformat_minor": 0,
  "metadata": {
    "colab": {
      "provenance": []
    },
    "kernelspec": {
      "name": "python3",
      "display_name": "Python 3"
    },
    "language_info": {
      "name": "python"
    }
  },
  "cells": [
    {
      "cell_type": "code",
      "execution_count": 1,
      "metadata": {
        "colab": {
          "base_uri": "https://localhost:8080/"
        },
        "id": "eNa2TcERrf71",
        "outputId": "0166690c-ac95-45a3-fdf7-f753af5dfe77"
      },
      "outputs": [
        {
          "output_type": "stream",
          "name": "stdout",
          "text": [
            "['Bukayo Saka', 'Gabriel Jesus', 'William Saliba', 'Declan Rice']\n"
          ]
        }
      ],
      "source": [
        "#capitalise players name\n",
        "arsenal_players = (\"bukayo saka\" , \"gabriel jesus\" ,\"william saliba\" , \"declan rice\")\n",
        "arsenal_players = [name.title() for name in arsenal_players]\n",
        "print(arsenal_players)"
      ]
    },
    {
      "cell_type": "code",
      "source": [
        "#display players names each per line\n",
        "for name in arsenal_players:\n",
        "  print(name)\n",
        "print (\"done!\") # print done! once finished displaying players names."
      ],
      "metadata": {
        "colab": {
          "base_uri": "https://localhost:8080/"
        },
        "id": "s1OSlKW-vuyY",
        "outputId": "6284b762-c61e-425c-d9c3-1831489997c8"
      },
      "execution_count": 3,
      "outputs": [
        {
          "output_type": "stream",
          "name": "stdout",
          "text": [
            "Bukayo Saka\n",
            "Gabriel Jesus\n",
            "William Saliba\n",
            "Declan Rice\n",
            "done!\n"
          ]
        }
      ]
    }
  ]
}